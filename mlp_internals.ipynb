{
  "nbformat": 4,
  "nbformat_minor": 0,
  "metadata": {
    "colab": {
      "provenance": [],
      "authorship_tag": "ABX9TyMYmDQv5yGZvXl7epUrMqBB",
      "include_colab_link": true
    },
    "kernelspec": {
      "name": "python3",
      "display_name": "Python 3"
    },
    "language_info": {
      "name": "python"
    }
  },
  "cells": [
    {
      "cell_type": "markdown",
      "metadata": {
        "id": "view-in-github",
        "colab_type": "text"
      },
      "source": [
        "<a href=\"https://colab.research.google.com/github/bubuloMallone/NeuralNetworksEX/blob/main/mlp_internals.ipynb\" target=\"_parent\"><img src=\"https://colab.research.google.com/assets/colab-badge.svg\" alt=\"Open In Colab\"/></a>"
      ]
    },
    {
      "cell_type": "code",
      "execution_count": 5,
      "metadata": {
        "id": "UkmQVt20MzSz"
      },
      "outputs": [],
      "source": [
        "import torch\n",
        "import torch.nn.functional as F\n",
        "import matplotlib.pyplot as plt\n",
        "import numpy as np\n",
        "import random"
      ]
    },
    {
      "cell_type": "code",
      "source": [
        "!wget https://raw.githubusercontent.com/bubuloMallone/NeuralNetworksEX/refs/heads/main/datasets/names.txt\n",
        "\n",
        "words = open('names.txt', 'r').read().splitlines()\n",
        "\n",
        "words[:10]"
      ],
      "metadata": {
        "colab": {
          "base_uri": "https://localhost:8080/"
        },
        "id": "a51gub7Kdo7r",
        "outputId": "7444f199-6961-4b92-816f-4639cd278c21"
      },
      "execution_count": 2,
      "outputs": [
        {
          "output_type": "stream",
          "name": "stdout",
          "text": [
            "--2025-07-09 13:53:53--  https://raw.githubusercontent.com/bubuloMallone/NeuralNetworksEX/refs/heads/main/datasets/names.txt\n",
            "Resolving raw.githubusercontent.com (raw.githubusercontent.com)... 185.199.108.133, 185.199.109.133, 185.199.110.133, ...\n",
            "Connecting to raw.githubusercontent.com (raw.githubusercontent.com)|185.199.108.133|:443... connected.\n",
            "HTTP request sent, awaiting response... 200 OK\n",
            "Length: 228145 (223K) [text/plain]\n",
            "Saving to: ‘names.txt’\n",
            "\n",
            "names.txt           100%[===================>] 222.80K  --.-KB/s    in 0.05s   \n",
            "\n",
            "2025-07-09 13:53:53 (4.29 MB/s) - ‘names.txt’ saved [228145/228145]\n",
            "\n"
          ]
        },
        {
          "output_type": "execute_result",
          "data": {
            "text/plain": [
              "['emma',\n",
              " 'olivia',\n",
              " 'ava',\n",
              " 'isabella',\n",
              " 'sophia',\n",
              " 'charlotte',\n",
              " 'mia',\n",
              " 'amelia',\n",
              " 'harper',\n",
              " 'evelyn']"
            ]
          },
          "metadata": {},
          "execution_count": 2
        }
      ]
    },
    {
      "cell_type": "code",
      "source": [
        "chars = sorted(list(set(''.join(words))))\n",
        "alphabet_size = len(chars) + 1\n",
        "stoi = {s:i+1 for i,s in enumerate(chars)}\n",
        "stoi['.'] = 0\n",
        "itos = {i:s for s,i in stoi.items()}\n",
        "print(itos)\n",
        "print(alphabet_size)"
      ],
      "metadata": {
        "colab": {
          "base_uri": "https://localhost:8080/"
        },
        "id": "KYpSTTDudqI6",
        "outputId": "51dd1535-58dd-4bcb-b446-800c8149e81b"
      },
      "execution_count": 3,
      "outputs": [
        {
          "output_type": "stream",
          "name": "stdout",
          "text": [
            "{1: 'a', 2: 'b', 3: 'c', 4: 'd', 5: 'e', 6: 'f', 7: 'g', 8: 'h', 9: 'i', 10: 'j', 11: 'k', 12: 'l', 13: 'm', 14: 'n', 15: 'o', 16: 'p', 17: 'q', 18: 'r', 19: 's', 20: 't', 21: 'u', 22: 'v', 23: 'w', 24: 'x', 25: 'y', 26: 'z', 0: '.'}\n",
            "27\n"
          ]
        }
      ]
    },
    {
      "cell_type": "code",
      "source": [
        "# build the dataset\n",
        "\n",
        "# define the context length: how many char we consider to predict the next one\n",
        "block_size = 3\n",
        "\n",
        "def build_dataset(words):\n",
        "  X, Y = [], []\n",
        "\n",
        "  for word in words:\n",
        "\n",
        "    context = [0] * block_size\n",
        "    for ch in word + '.':\n",
        "      idx = stoi[ch]\n",
        "      X.append(context)\n",
        "      Y.append(idx)\n",
        "      # print(''.join(itos[i] for i in context), '--->', itos[idx])\n",
        "      context = context[1:] + [idx]\n",
        "\n",
        "  X = torch.tensor(X)\n",
        "  Y = torch.tensor(Y)\n",
        "  print('Data:', X.shape, X.dtype)\n",
        "  print('Labels:', Y.shape, Y.dtype)\n",
        "  num_samples = X.shape[0]\n",
        "\n",
        "  return X, Y, num_samples\n",
        "\n",
        "\n",
        "random.seed(42)\n",
        "random.shuffle(words)\n",
        "n1 = int(0.8*len(words))\n",
        "n2 = int(0.9*len(words))\n",
        "\n",
        "Xtr, Ytr, num_samples_tr = build_dataset(words[:n1])\n",
        "Xval, Yval, num_samples_val = build_dataset(words[n1:n2])\n",
        "Xte, Yte, num_samples_te = build_dataset(words[n2:])"
      ],
      "metadata": {
        "colab": {
          "base_uri": "https://localhost:8080/"
        },
        "id": "I7y3Swj5dyPn",
        "outputId": "6ff912d1-7892-438f-8505-11808986054b"
      },
      "execution_count": 7,
      "outputs": [
        {
          "output_type": "stream",
          "name": "stdout",
          "text": [
            "Data: torch.Size([182580, 3]) torch.int64\n",
            "Labels: torch.Size([182580]) torch.int64\n",
            "Data: torch.Size([22767, 3]) torch.int64\n",
            "Labels: torch.Size([22767]) torch.int64\n",
            "Data: torch.Size([22799, 3]) torch.int64\n",
            "Labels: torch.Size([22799]) torch.int64\n"
          ]
        }
      ]
    },
    {
      "cell_type": "markdown",
      "source": [
        "Initialization and its impacts on training performances"
      ],
      "metadata": {
        "id": "9zpmtW2-7H1x"
      }
    },
    {
      "cell_type": "markdown",
      "source": [
        "Note 1: Avoid high initial random logits.\n",
        "\n",
        "Initialize W2,b2 properly!"
      ],
      "metadata": {
        "id": "p47bj0220SEy"
      }
    },
    {
      "cell_type": "code",
      "source": [
        "# We want that at initialization the network assigns equal probabilities to all characters\n",
        "# the expected inital loss should be something similar to\n",
        "print(-torch.tensor(1/float(alphabet_size)).log())"
      ],
      "metadata": {
        "colab": {
          "base_uri": "https://localhost:8080/"
        },
        "id": "-kfr_iYiocp5",
        "outputId": "7b42c6af-e7a9-4342-b924-98dcb0cdae44"
      },
      "execution_count": 16,
      "outputs": [
        {
          "output_type": "stream",
          "name": "stdout",
          "text": [
            "tensor(3.2958)\n"
          ]
        }
      ]
    },
    {
      "cell_type": "code",
      "source": [
        "# at initialization instead the network is creating probs that are all messed up, i.e. some are very confident andd some are very confidently wrong.\n",
        "# example: let us suppose the idx=2 is the correct label to predict\n",
        "idx = 2\n",
        "print('correct label: ', idx)\n",
        "\n",
        "logits = torch.tensor([0.0, 0.0, 0.0, 0.0])\n",
        "probs = F.softmax(logits, dim=0)\n",
        "loss = -probs[idx].log()\n",
        "print('logits: ', logits)\n",
        "print('probs: ', probs)\n",
        "print('loss: ', loss)\n",
        "\n",
        "logits = torch.tensor([0.0, 0.0, 5.0, 0.0])\n",
        "probs = F.softmax(logits, dim=0)\n",
        "loss = -probs[idx].log()\n",
        "print('logits: ', logits)\n",
        "print('probs: ', probs)\n",
        "print('loss: ', loss)\n",
        "\n",
        "logits = torch.tensor([-3.0, 7.0, 1.0, 2.0])\n",
        "probs = F.softmax(logits, dim=0)\n",
        "loss = -probs[idx].log()\n",
        "print('logits: ', logits)\n",
        "print('probs: ', probs)\n",
        "print('loss: ', loss)\n",
        "\n",
        "logits = torch.randn(4) * 20\n",
        "probs = F.softmax(logits, dim=0)\n",
        "loss = -probs[idx].log()\n",
        "print('logits: ', logits)\n",
        "print('probs: ', probs)\n",
        "print('loss: ', loss)\n",
        "\n",
        "# therefore if the initial logits are relatively big random numbers then the loss will be very high\n",
        "# we want the inital logits to be close to zero even though still random"
      ],
      "metadata": {
        "colab": {
          "base_uri": "https://localhost:8080/"
        },
        "id": "rIbU5-QjtBvR",
        "outputId": "aeb9b23b-0103-4cb8-c54c-a5cc614c0f41"
      },
      "execution_count": 28,
      "outputs": [
        {
          "output_type": "stream",
          "name": "stdout",
          "text": [
            "correct label:  2\n",
            "logits:  tensor([0., 0., 0., 0.])\n",
            "probs:  tensor([0.2500, 0.2500, 0.2500, 0.2500])\n",
            "loss:  tensor(1.3863)\n",
            "logits:  tensor([0., 0., 5., 0.])\n",
            "probs:  tensor([0.0066, 0.0066, 0.9802, 0.0066])\n",
            "loss:  tensor(0.0200)\n",
            "logits:  tensor([-3.,  7.,  1.,  2.])\n",
            "probs:  tensor([4.4983e-05, 9.9082e-01, 2.4560e-03, 6.6761e-03])\n",
            "loss:  tensor(6.0092)\n",
            "logits:  tensor([-29.1832, -34.9111, -14.7261,  -3.0207])\n",
            "probs:  tensor([4.3429e-12, 1.4131e-14, 8.2490e-06, 9.9999e-01])\n",
            "loss:  tensor(11.7054)\n"
          ]
        }
      ]
    },
    {
      "cell_type": "code",
      "source": [
        "# MLP architecture\n",
        "\n",
        "g = torch.Generator().manual_seed(2147483647)\n",
        "\n",
        "emb_dim = 10\n",
        "hidden_dim = 200\n",
        "\n",
        "# embedding\n",
        "C = torch.randn((alphabet_size, emb_dim))\n",
        "# first fully connected layer\n",
        "W1 = torch.randn((block_size * emb_dim, hidden_dim), generator=g) * 0.2  # to avoid dead neurons\n",
        "b1 = torch.randn(hidden_dim, generator=g) * 0.01  # to avoid dead neurons\n",
        "# second fully connected layer\n",
        "W2 = torch.randn((hidden_dim, alphabet_size), generator=g) * 0.01  # to keep low initial logits\n",
        "# note better not to set W2 exactly to zero!\n",
        "b2 = torch.randn(alphabet_size, generator=g) * 0   # to keep low initial logits\n",
        "\n",
        "parameters = [C, W1, b1, W2, b2]\n",
        "\n",
        "# require gradients\n",
        "for p in parameters:\n",
        "  p.requires_grad = True\n",
        "\n",
        "tot_parameters = sum(p.nelement() for p in parameters)\n",
        "print(f'Total number of parameters: {tot_parameters}')"
      ],
      "metadata": {
        "colab": {
          "base_uri": "https://localhost:8080/"
        },
        "id": "xyMa__lMd_k7",
        "outputId": "c83345f7-6b68-4645-f946-ba9e5de8e0cf"
      },
      "execution_count": 40,
      "outputs": [
        {
          "output_type": "stream",
          "name": "stdout",
          "text": [
            "Total number of parameters: 11897\n"
          ]
        }
      ]
    },
    {
      "cell_type": "code",
      "source": [
        "max_steps = 200000\n",
        "batch_size = 32\n",
        "losses = []\n",
        "\n",
        "for i in range(max_steps):\n",
        "\n",
        "  # minibatch construct\n",
        "  idxs = torch.randint(0, Xtr.shape[0], (batch_size,), generator=g)  # (num_samples,) --> (batch_size,)\n",
        "  Xb, Yb = Xtr[idxs], Ytr[idxs]  # (batch_size, block_size) and (batch_size,)\n",
        "\n",
        "  # forward pass\n",
        "  emb = C[Xb]   # (batch_size, block_size, emb_dim)\n",
        "  emb_cat = emb.view(emb.shape[0], -1)  # (batch_size, block_size * emb_dim)\n",
        "  h_preact = emb_cat @ W1 + b1   # (batch_size, hidden_dim)\n",
        "  h = torch.tanh(h_preact)   # (batch_size, hidden_dim)\n",
        "  logits = h @ W2 + b2    # (batch_size, alphabet_size)\n",
        "  loss = F.cross_entropy(logits, Yb)\n",
        "  # print(loss.item())\n",
        "\n",
        "  # backward pass\n",
        "  for p in parameters:\n",
        "    p.grad = None\n",
        "  loss.backward()\n",
        "\n",
        "  # update parameters\n",
        "  learning_rate = 0.1 if i < 100000 else 0.01\n",
        "  for p in parameters:\n",
        "    p.data += -learning_rate * p.grad\n",
        "\n",
        "  # track stats\n",
        "  if i % 10000 == 0 : # print every once in a while\n",
        "    print(f'{i:7d}/{max_steps:7d}: {loss.item():.4f}')\n",
        "  losses.append(loss.log10().item())\n",
        "\n",
        "  break"
      ],
      "metadata": {
        "colab": {
          "base_uri": "https://localhost:8080/"
        },
        "id": "xPvobB6ofezX",
        "outputId": "28e4b045-e37e-4fad-a58c-83361f8d78cd"
      },
      "execution_count": 41,
      "outputs": [
        {
          "output_type": "stream",
          "name": "stdout",
          "text": [
            "      0/ 200000: 3.3228\n"
          ]
        }
      ]
    },
    {
      "cell_type": "markdown",
      "source": [
        "Note 2: Non-linerarity of the hidden layr might kill gradients!\n",
        "\n",
        "The initialization of the weight and biases could be such that the hidden layer has dead neurons, i.e. neurons that never activate. This happens when the pre-activation of the neuron yield to a flat tail of the activation function, with vanishing gradient, no matter what the input sample is. This means the dead neuron will never learn the weights and biases on the data."
      ],
      "metadata": {
        "id": "wc-ZQmZR0Piz"
      }
    },
    {
      "cell_type": "code",
      "source": [
        "plt.hist(h.view(-1).tolist(), bins=50)\n",
        "plt.show()\n",
        "\n",
        "plt.hist(h_preact.view(-1).tolist(), bins=50)\n",
        "plt.show()"
      ],
      "metadata": {
        "colab": {
          "base_uri": "https://localhost:8080/",
          "height": 843
        },
        "id": "0DhFf-fC0O00",
        "outputId": "2e7daade-0bcd-4732-dc9c-0ef90ee92b53"
      },
      "execution_count": 42,
      "outputs": [
        {
          "output_type": "display_data",
          "data": {
            "text/plain": [
              "<Figure size 640x480 with 1 Axes>"
            ],
            "image/png": "[encoded data removed]"
          },
          "metadata": {}
        },
        {
          "output_type": "display_data",
          "data": {
            "text/plain": [
              "<Figure size 640x480 with 1 Axes>"
            ],
            "image/png": "[encoded data removed]"
          },
          "metadata": {}
        }
      ]
    },
    {
      "cell_type": "code",
      "source": [
        "plt.figure(figsize=(30,15))\n",
        "plt.imshow(h.abs() > 0.99, cmap='gray', interpolation='nearest')\n",
        "plt.show()\n",
        "\n",
        "# Again we want the initialized preactivation to stay close to zero\n",
        "# so that the non-linearity is not saturated and the gradients are not vanishing."
      ],
      "metadata": {
        "colab": {
          "base_uri": "https://localhost:8080/",
          "height": 127
        },
        "id": "Egv4KS063eV0",
        "outputId": "84a16b31-c047-4ea6-acf7-3eaca9faa387"
      },
      "execution_count": 46,
      "outputs": [
        {
          "output_type": "display_data",
          "data": {
            "text/plain": [
              "<Figure size 3000x1500 with 1 Axes>"
            ],
            "image/png": "[encoded data removed]"
          },
          "metadata": {}
        }
      ]
    },
    {
      "cell_type": "code",
      "source": [
        "plt.plot(losses)\n",
        "plt.xlabel('steps')\n",
        "plt.ylabel('loss')\n",
        "plt.show()"
      ],
      "metadata": {
        "colab": {
          "base_uri": "https://localhost:8080/",
          "height": 449
        },
        "id": "ngqXIlc1kTKX",
        "outputId": "03fc0180-9c90-424c-f491-1b2ab6a9e7f3"
      },
      "execution_count": 11,
      "outputs": [
        {
          "output_type": "display_data",
          "data": {
            "text/plain": [
              "<Figure size 640x480 with 1 Axes>"
            ],
            "image/png": "[encoded data removed]"
          },
          "metadata": {}
        }
      ]
    },
    {
      "cell_type": "code",
      "source": [
        "# evaluate the model on a set\n",
        "@torch.no_grad()\n",
        "def split_loss(split):\n",
        "  x, y = {\n",
        "    'train': (Xtr, Ytr),\n",
        "    'val': (Xval, Yval),\n",
        "    'test': (Xte, Yte),\n",
        "  }[split]\n",
        "\n",
        "  # forward pass\n",
        "  emb = C[x]   # (set_size, block_size, emb_dim)\n",
        "  h = torch.tanh(emb.view(emb.shape[0], -1) @ W1 + b1)   # (set_size, hidden_dim)\n",
        "  logits = h @ W2 + b2    # (set_size, alphabet_size)\n",
        "  loss = F.cross_entropy(logits, y)\n",
        "  print(split, loss.item())\n",
        "\n",
        "split_loss('train')\n",
        "split_loss('val')\n"
      ],
      "metadata": {
        "colab": {
          "base_uri": "https://localhost:8080/"
        },
        "id": "saWr0f8yiQ8D",
        "outputId": "edb311e2-32cf-49aa-e8b2-95d5dab710b4"
      },
      "execution_count": 12,
      "outputs": [
        {
          "output_type": "stream",
          "name": "stdout",
          "text": [
            "train 2.1204123497009277\n",
            "val 2.1620218753814697\n"
          ]
        }
      ]
    },
    {
      "cell_type": "code",
      "source": [
        "g = torch.Generator().manual_seed(2147483647 + 10)\n",
        "\n",
        "for _ in range(20):\n",
        "  out = []\n",
        "  context = [0] * block_size   # initialize the sampling context with \"...\"\n",
        "  while True:\n",
        "    emb = C[torch.tensor([context])] # (1, block_size, d)\n",
        "    h = torch.tanh(emb.view(1, -1) @ W1 + b1)\n",
        "    logits = h @ W2 + b2\n",
        "    probs = F.softmax(logits, dim=1)\n",
        "    idx = torch.multinomial(probs, num_samples=1, replacement = True, generator=g).item()\n",
        "    context = context[1:] + [idx]\n",
        "    out.append(idx)\n",
        "    if idx == 0:\n",
        "      break\n",
        "\n",
        "  print(''.join(itos[i] for i in out))"
      ],
      "metadata": {
        "colab": {
          "base_uri": "https://localhost:8080/"
        },
        "id": "mia7IIGUkyjB",
        "outputId": "20512fa7-6539-4aa6-b262-31e92e4185d4"
      },
      "execution_count": 14,
      "outputs": [
        {
          "output_type": "stream",
          "name": "stdout",
          "text": [
            "mora.\n",
            "mayannieel.\n",
            "nihriah.\n",
            "remyra.\n",
            "endraega.\n",
            "zeredgeliah.\n",
            "milopa.\n",
            "eden.\n",
            "estanar.\n",
            "katelmonter.\n",
            "noshub.\n",
            "rishiriel.\n",
            "kin.\n",
            "reelynn.\n",
            "noella.\n",
            "uzabelder.\n",
            "yarleyeh.\n",
            "yuma.\n",
            "miston.\n",
            "mahil.\n"
          ]
        }
      ]
    }
  ]
}