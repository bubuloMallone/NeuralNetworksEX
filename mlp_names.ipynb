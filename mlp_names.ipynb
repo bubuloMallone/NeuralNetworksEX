{
  "nbformat": 4,
  "nbformat_minor": 0,
  "metadata": {
    "colab": {
      "provenance": [],
      "authorship_tag": "ABX9TyPD8P5BcMh9RWqA05gg9MPr",
      "include_colab_link": true
    },
    "kernelspec": {
      "name": "python3",
      "display_name": "Python 3"
    },
    "language_info": {
      "name": "python"
    }
  },
  "cells": [
    {
      "cell_type": "markdown",
      "metadata": {
        "id": "view-in-github",
        "colab_type": "text"
      },
      "source": [
        "<a href=\"https://colab.research.google.com/github/bubuloMallone/NeuralNetworksEX/blob/main/mlp_names.ipynb\" target=\"_parent\"><img src=\"https://colab.research.google.com/assets/colab-badge.svg\" alt=\"Open In Colab\"/></a>"
      ]
    },
    {
      "cell_type": "markdown",
      "source": [
        "Implementation of a multilayer perceptron (MLP) charachter-level language model, trained on the names dataset already used.\n",
        "\n",
        "Reference paper: Bengio et al. 2003\n",
        "\n",
        "https://www.jmlr.org/papers/volume3/bengio03a/bengio03a.pdf"
      ],
      "metadata": {
        "id": "Q86_IS65o1bR"
      }
    },
    {
      "cell_type": "code",
      "source": [
        "import torch\n",
        "import torch.nn.functional as F\n",
        "import matplotlib.pyplot as plt"
      ],
      "metadata": {
        "id": "auQuk4hvp0Kw"
      },
      "execution_count": 1,
      "outputs": []
    },
    {
      "cell_type": "code",
      "execution_count": 2,
      "metadata": {
        "colab": {
          "base_uri": "https://localhost:8080/"
        },
        "id": "ln24QRlNCXtM",
        "outputId": "14bbc310-2285-4407-ff0f-9a4735f3231f"
      },
      "outputs": [
        {
          "output_type": "stream",
          "name": "stdout",
          "text": [
            "--2025-07-08 17:52:04--  https://raw.githubusercontent.com/bubuloMallone/NeuralNetworksEX/refs/heads/main/datasets/names.txt\n",
            "Resolving raw.githubusercontent.com (raw.githubusercontent.com)... 185.199.110.133, 185.199.108.133, 185.199.109.133, ...\n",
            "Connecting to raw.githubusercontent.com (raw.githubusercontent.com)|185.199.110.133|:443... connected.\n",
            "HTTP request sent, awaiting response... 200 OK\n",
            "Length: 228145 (223K) [text/plain]\n",
            "Saving to: ‘names.txt’\n",
            "\n",
            "names.txt           100%[===================>] 222.80K  --.-KB/s    in 0.02s   \n",
            "\n",
            "2025-07-08 17:52:04 (9.91 MB/s) - ‘names.txt’ saved [228145/228145]\n",
            "\n"
          ]
        },
        {
          "output_type": "execute_result",
          "data": {
            "text/plain": [
              "['emma',\n",
              " 'olivia',\n",
              " 'ava',\n",
              " 'isabella',\n",
              " 'sophia',\n",
              " 'charlotte',\n",
              " 'mia',\n",
              " 'amelia',\n",
              " 'harper',\n",
              " 'evelyn']"
            ]
          },
          "metadata": {},
          "execution_count": 2
        }
      ],
      "source": [
        "!wget https://raw.githubusercontent.com/bubuloMallone/NeuralNetworksEX/refs/heads/main/datasets/names.txt\n",
        "\n",
        "words = open('names.txt', 'r').read().splitlines()\n",
        "\n",
        "words[:10]"
      ]
    },
    {
      "cell_type": "markdown",
      "source": [
        "First let us build the vocabulary of characters and the relative mappings to/from integers"
      ],
      "metadata": {
        "id": "zE25Ua95qB0X"
      }
    },
    {
      "cell_type": "code",
      "source": [
        "chars = sorted(list(set(''.join(words))))\n",
        "alphabet_size = len(chars) + 1\n",
        "stoi = {s:i+1 for i,s in enumerate(chars)}\n",
        "stoi['.'] = 0\n",
        "itos = {i:s for s,i in stoi.items()}\n",
        "print(itos)\n",
        "print(alphabet_size)"
      ],
      "metadata": {
        "colab": {
          "base_uri": "https://localhost:8080/"
        },
        "id": "k5pBRpIknElF",
        "outputId": "e94ac469-75c4-4bcb-ded6-420bbc32e7db"
      },
      "execution_count": 5,
      "outputs": [
        {
          "output_type": "stream",
          "name": "stdout",
          "text": [
            "{1: 'a', 2: 'b', 3: 'c', 4: 'd', 5: 'e', 6: 'f', 7: 'g', 8: 'h', 9: 'i', 10: 'j', 11: 'k', 12: 'l', 13: 'm', 14: 'n', 15: 'o', 16: 'p', 17: 'q', 18: 'r', 19: 's', 20: 't', 21: 'u', 22: 'v', 23: 'w', 24: 'x', 25: 'y', 26: 'z', 0: '.'}\n",
            "27\n"
          ]
        }
      ]
    },
    {
      "cell_type": "markdown",
      "source": [
        "Now let us build the dataset"
      ],
      "metadata": {
        "id": "tsMgV4narWQp"
      }
    },
    {
      "cell_type": "code",
      "source": [
        "# define the context length: how many char we consider to predict the next one\n",
        "block_size = 3\n",
        "X, Y = [], []\n",
        "\n",
        "for word in words:\n",
        "  # print(word)\n",
        "\n",
        "  context = [0] * block_size\n",
        "  for ch in word + '.':\n",
        "    idx = stoi[ch]\n",
        "    X.append(context)\n",
        "    Y.append(idx)\n",
        "    # print(''.join(itos[i] for i in context), '--->', itos[idx])\n",
        "    context = context[1:] + [idx]\n",
        "\n",
        "X = torch.tensor(X)\n",
        "Y = torch.tensor(Y)\n",
        "print('Data:', X.shape, X.dtype)\n",
        "print('Labels:', Y.shape, Y.dtype)\n",
        "\n",
        "num_samples = X.shape[0]"
      ],
      "metadata": {
        "colab": {
          "base_uri": "https://localhost:8080/"
        },
        "id": "IMaW8ACDqAb3",
        "outputId": "5e9e7729-cb70-4ecb-fbe5-e8a619c26008"
      },
      "execution_count": 6,
      "outputs": [
        {
          "output_type": "stream",
          "name": "stdout",
          "text": [
            "Data: torch.Size([228146, 3]) torch.int64\n",
            "Labels: torch.Size([228146]) torch.int64\n"
          ]
        }
      ]
    },
    {
      "cell_type": "markdown",
      "source": [
        "Now let us build now te neural network. It will be a MLP consisting of an embedding layer, an internal layer and an putput layer."
      ],
      "metadata": {
        "id": "2RcPpZca2myi"
      }
    },
    {
      "cell_type": "code",
      "source": [
        "g = torch.Generator().manual_seed(2147483647)\n",
        "\n",
        "# embedding\n",
        "emb_dim = 2\n",
        "C = torch.randn((alphabet_size, emb_dim))\n",
        "\n",
        "# first fully connected layer\n",
        "hidden_dim = 100\n",
        "W1 = torch.randn((block_size * emb_dim, hidden_dim), generator=g)\n",
        "b1 = torch.randn(hidden_dim, generator=g)\n",
        "\n",
        "# second fully connected layer\n",
        "W2 = torch.randn((hidden_dim, alphabet_size), generator=g)\n",
        "b2 = torch.randn(alphabet_size, generator=g)\n",
        "\n",
        "parameters = [C, W1, b1, W2, b2]\n",
        "\n",
        "# require gradients\n",
        "for p in parameters:\n",
        "  p.requires_grad = True\n",
        "\n",
        "tot_parameters = sum(p.nelement() for p in parameters)\n",
        "print(f'Total number of parameters: {tot_parameters}')"
      ],
      "metadata": {
        "id": "T_-Vo2JY2ljf",
        "outputId": "6d9d3671-17c9-469c-c0f3-0aadba3b8c7e",
        "colab": {
          "base_uri": "https://localhost:8080/"
        }
      },
      "execution_count": 9,
      "outputs": [
        {
          "output_type": "stream",
          "name": "stdout",
          "text": [
            "Total number of parameters: 3481\n"
          ]
        }
      ]
    },
    {
      "cell_type": "code",
      "source": [
        "for _ in range(100):\n",
        "  # forward pass\n",
        "  emb = C[X]\n",
        "  h = torch.tanh(emb.view(-1, block_size * emb_dim) @ W1 + b1)   # (num_samples, hidden_dim)\n",
        "  logits = h @ W2 + b2    # (hidden_dim, alphabet_size)\n",
        "  loss = F.cross_entropy(logits, Y)\n",
        "  # print(loss.item())\n",
        "\n",
        "  # backward pass\n",
        "  for p in parameters:\n",
        "    p.grad = None\n",
        "  loss.backward()\n",
        "\n",
        "  # update parameters\n",
        "  learning_rate = 0.1\n",
        "  for p in parameters:\n",
        "    p.data += -learning_rate * p.grad\n",
        "\n",
        "print(loss.item())\n"
      ],
      "metadata": {
        "id": "I48FEhKlMZY3",
        "outputId": "fd526329-9659-46fb-9216-6079227126de",
        "colab": {
          "base_uri": "https://localhost:8080/"
        }
      },
      "execution_count": 12,
      "outputs": [
        {
          "output_type": "stream",
          "name": "stdout",
          "text": [
            "2.8117642402648926\n"
          ]
        }
      ]
    }
  ]
}